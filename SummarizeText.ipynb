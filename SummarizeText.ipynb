{
 "cells": [
  {
   "cell_type": "markdown",
   "metadata": {},
   "source": [
    "# TEXT SUMMARIZATION"
   ]
  },
  {
   "cell_type": "markdown",
   "metadata": {},
   "source": [
    "Summarizing texts is one of the sub-fields of NLP, and as the name suggests, it is aims to summarize relatively longer texts or articles. In this notebook my plan is to work on this task by using different approaches. I used Wikipedia to find texts by using ***wikipedia*** package. There are two main approaches to summarize text in literature, which are Extractive and Abstractive.<br><br>\n",
    "Extractive text summarization serve most important sentences as the summary of the article based on occurance counts of words. <br>\n",
    "Abstractive method generates its own sentences from text by using transformers (decoder -encoders), For this approaches there are several pre-trained models to use. In this project I will try \n",
    "<br><br>\n",
    "To clarify, let's suppose we have a text consisting of 5 different sentences from A to E. <br>\n",
    "A.B.C.D.E. <br>\n",
    "Extractive == > B.D.<br>\n",
    "Abstractive == > F.G.<br>\n",
    "\n",
    "I am planning to implement both approaches to summarize by using several methods. "
   ]
  },
  {
   "cell_type": "code",
   "execution_count": 4,
   "metadata": {},
   "outputs": [],
   "source": [
    "import wikipedia"
   ]
  },
  {
   "cell_type": "code",
   "execution_count": 185,
   "metadata": {},
   "outputs": [
    {
     "name": "stdout",
     "output_type": "stream",
     "text": [
      "Europe is a continent which is also recognised as part of Eurasia, located entirely in the Northern Hemisphere and mostly in the Eastern Hemisphere. Comprising the westernmost peninsulas of the continental landmass of Eurasia, it shares the continental landmass of Afro-Eurasia with both Asia and Africa. It is bordered by the Arctic Ocean to the north, the Atlantic Ocean to the west, the Mediterranean Sea to the south and Asia to the east. Europe is commonly considered to be separated from Asia by the watershed of the Ural Mountains, the Ural River, the Caspian Sea, the Greater Caucasus, the Black Sea and the waterways of the Turkish Straits.  Although much of this border is over land, Europe is almost always recognised as its own continent because of its great physical size and the weight of its history and traditions.\n",
      "Europe covers about 10.18 million km2 (3.93 million sq mi), or 2% of the Earth's surface (6.8% of land area), making it the second-smallest continent (using the seven-continent model). Politically, Europe is divided into about fifty sovereign states, of which Russia is the largest and most populous, spanning 39% of the continent and comprising 15% of its population. Europe had a total population of about 746 million (about 10% of the world population) in 2018. The European climate is largely affected by warm Atlantic currents that temper winters and summers on much of the continent, even at latitudes along which the climate in Asia and North America is severe. Further from the sea, seasonal differences are more noticeable than close to the coast.\n",
      "European culture is the root of Western civilisation, which traces its lineage back to ancient Greece and ancient Rome. The fall of the Western Roman Empire in 476 AD and the subsequent Migration Period marked the end of Europe's ancient history, and the beginning of the Middle Ages. Renaissance humanism, exploration, art and science led to the modern era. Since the Age of Discovery, started by Portugal and Spain, Europe played a predominant role in global affairs. Between the 16th and 20th centuries, European powers colonised at various times the Americas, almost all of Africa and Oceania, and the majority of Asia.\n",
      "The Age of Enlightenment, the subsequent French Revolution and the Napoleonic Wars shaped the continent culturally, politically and economically from the end of the 17th century until the first half of the 19th century. The Industrial Revolution, which began in Great Britain at the end of the 18th century, gave rise to radical economic, cultural and social change in Western Europe and eventually the wider world. Both world wars took place for the most part in Europe, contributing to a decline in Western European dominance in world affairs by the mid-20th century as the Soviet Union and the United States took prominence. During the Cold War, Europe was divided along the Iron Curtain between NATO in the West and the Warsaw Pact in the East, until the revolutions of 1989, fall of the Berlin Wall and the dissolution of the Soviet Union.\n",
      "In 1949, the Council of Europe was founded with the idea of unifying Europe to achieve common goals and prevent future wars. Further European integration by some states led to the formation of the European Union (EU), a separate political entity that lies between a confederation and a federation. The EU originated in Western Europe but has been expanding eastward since the fall of the Soviet Union in 1991. The currency of most countries of the European Union, the euro, is the most commonly used among Europeans; and the EU's Schengen Area abolishes border, and immigration controls between most of its member states and some non-member states. There exists a political movement favouring the evolution of the European Union into a single federation encompassing much of the continent.\n"
     ]
    }
   ],
   "source": [
    "text = wikipedia.summary(\"Europe\")\n",
    " \n",
    "# printing the result\n",
    "print(text)"
   ]
  },
  {
   "cell_type": "markdown",
   "metadata": {},
   "source": [
    "## Extractive Summarization Approaches"
   ]
  },
  {
   "cell_type": "code",
   "execution_count": 186,
   "metadata": {},
   "outputs": [],
   "source": [
    "import spacy\n",
    "from string import punctuation"
   ]
  },
  {
   "cell_type": "code",
   "execution_count": 187,
   "metadata": {},
   "outputs": [
    {
     "data": {
      "text/plain": [
       "['it', 'we', 'at', 'own', 'enough']"
      ]
     },
     "execution_count": 187,
     "metadata": {},
     "output_type": "execute_result"
    }
   ],
   "source": [
    "stopwords = list(STOP_WORDS)\n",
    "stopwords[0:5]"
   ]
  },
  {
   "cell_type": "markdown",
   "metadata": {},
   "source": [
    "### Extractive by Lemmatizing words "
   ]
  },
  {
   "cell_type": "code",
   "execution_count": 188,
   "metadata": {},
   "outputs": [
    {
     "name": "stderr",
     "output_type": "stream",
     "text": [
      "[nltk_data] Downloading package wordnet to /home/burcin/nltk_data...\n",
      "[nltk_data]   Package wordnet is already up-to-date!\n"
     ]
    }
   ],
   "source": [
    "import nltk\n",
    "nltk.download('wordnet')\n",
    "from nltk.stem import WordNetLemmatizer\n",
    "\n",
    "lemmatizer = WordNetLemmatizer()\n",
    " "
   ]
  },
  {
   "cell_type": "code",
   "execution_count": 189,
   "metadata": {},
   "outputs": [
    {
     "data": {
      "text/plain": [
       "['Europe is a continent which is also recognised as part of Eurasia, located entirely in the Northern Hemisphere and mostly in the Eastern Hemisphere.',\n",
       " 'Comprising the westernmost peninsulas of the continental landmass of Eurasia, it shares the continental landmass of Afro-Eurasia with both Asia and Africa.',\n",
       " 'It is bordered by the Arctic Ocean to the north, the Atlantic Ocean to the west, the Mediterranean Sea to the south and Asia to the east.',\n",
       " 'Europe is commonly considered to be separated from Asia by the watershed of the Ural Mountains, the Ural River, the Caspian Sea, the Greater Caucasus, the Black Sea and the waterways of the Turkish Straits.',\n",
       " 'Although much of this border is over land, Europe is almost always recognised as its own continent because of its great physical size and the weight of its history and traditions.',\n",
       " \"Europe covers about 10.18 million km2 (3.93 million sq mi), or 2% of the Earth's surface (6.8% of land area), making it the second-smallest continent (using the seven-continent model).\",\n",
       " 'Politically, Europe is divided into about fifty sovereign states, of which Russia is the largest and most populous, spanning 39% of the continent and comprising 15% of its population.',\n",
       " 'Europe had a total population of about 746 million (about 10% of the world population) in 2018.',\n",
       " 'The European climate is largely affected by warm Atlantic currents that temper winters and summers on much of the continent, even at latitudes along which the climate in Asia and North America is severe.',\n",
       " 'Further from the sea, seasonal differences are more noticeable than close to the coast.',\n",
       " 'European culture is the root of Western civilisation, which traces its lineage back to ancient Greece and ancient Rome.',\n",
       " \"The fall of the Western Roman Empire in 476 AD and the subsequent Migration Period marked the end of Europe's ancient history, and the beginning of the Middle Ages.\",\n",
       " 'Renaissance humanism, exploration, art and science led to the modern era.',\n",
       " 'Since the Age of Discovery, started by Portugal and Spain, Europe played a predominant role in global affairs.',\n",
       " 'Between the 16th and 20th centuries, European powers colonised at various times the Americas, almost all of Africa and Oceania, and the majority of Asia.',\n",
       " 'The Age of Enlightenment, the subsequent French Revolution and the Napoleonic Wars shaped the continent culturally, politically and economically from the end of the 17th century until the first half of the 19th century.',\n",
       " 'The Industrial Revolution, which began in Great Britain at the end of the 18th century, gave rise to radical economic, cultural and social change in Western Europe and eventually the wider world.',\n",
       " 'Both world wars took place for the most part in Europe, contributing to a decline in Western European dominance in world affairs by the mid-20th century as the Soviet Union and the United States took prominence.',\n",
       " 'During the Cold War, Europe was divided along the Iron Curtain between NATO in the West and the Warsaw Pact in the East, until the revolutions of 1989, fall of the Berlin Wall and the dissolution of the Soviet Union.',\n",
       " 'In 1949, the Council of Europe was founded with the idea of unifying Europe to achieve common goals and prevent future wars.',\n",
       " 'Further European integration by some states led to the formation of the European Union (EU), a separate political entity that lies between a confederation and a federation.',\n",
       " 'The EU originated in Western Europe but has been expanding eastward since the fall of the Soviet Union in 1991.',\n",
       " \"The currency of most countries of the European Union, the euro, is the most commonly used among Europeans; and the EU's Schengen Area abolishes border, and immigration controls between most of its member states and some non-member states.\",\n",
       " 'There exists a political movement favouring the evolution of the European Union into a single federation encompassing much of the continent.']"
      ]
     },
     "execution_count": 189,
     "metadata": {},
     "output_type": "execute_result"
    }
   ],
   "source": [
    "nltk.sent_tokenize(text)"
   ]
  },
  {
   "cell_type": "code",
   "execution_count": 190,
   "metadata": {},
   "outputs": [
    {
     "data": {
      "text/plain": [
       "['europe',\n",
       " 'continent',\n",
       " 'recognised',\n",
       " 'eurasia',\n",
       " 'located',\n",
       " 'entirely',\n",
       " 'northern',\n",
       " 'hemisphere',\n",
       " 'eastern',\n",
       " 'hemisphere',\n",
       " 'comprising',\n",
       " 'westernmost',\n",
       " 'peninsula',\n",
       " 'continental',\n",
       " 'landmass',\n",
       " 'eurasia',\n",
       " 'share',\n",
       " 'continental',\n",
       " 'landmass',\n",
       " 'afro-eurasia']"
      ]
     },
     "execution_count": 190,
     "metadata": {},
     "output_type": "execute_result"
    }
   ],
   "source": [
    "\n",
    "tokens = [lemmatizer.lemmatize(str(token).lower()) for token in nltk.word_tokenize(text) if str(token) not in punctuation and str(token).lower() not in stopwords and len(token) >1]\n",
    "tokens[0:20]"
   ]
  },
  {
   "cell_type": "code",
   "execution_count": 191,
   "metadata": {},
   "outputs": [],
   "source": [
    "word_counts = {}\n",
    "\n",
    "for token in tokens:\n",
    "    if token in word_counts.keys():\n",
    "        word_counts[token] += 1\n",
    "    else:\n",
    "        word_counts[token] = 1"
   ]
  },
  {
   "cell_type": "code",
   "execution_count": 192,
   "metadata": {},
   "outputs": [
    {
     "name": "stdout",
     "output_type": "stream",
     "text": [
      "europe 14\n",
      "european 9\n",
      "continent 7\n",
      "union 6\n",
      "asia 5\n"
     ]
    }
   ],
   "source": [
    "from heapq import nlargest\n",
    "for key in nlargest(5, word_counts, key = word_counts.get):\n",
    "      print(key , word_counts[key])"
   ]
  },
  {
   "cell_type": "code",
   "execution_count": 193,
   "metadata": {},
   "outputs": [
    {
     "name": "stdout",
     "output_type": "stream",
     "text": [
      "{'europe': 14, 'continent': 7, 'recognised': 2, 'eurasia': 2, 'located': 1, 'entirely': 1, 'northern': 1, 'hemisphere': 2, 'eastern': 1, 'comprising': 2, 'westernmost': 1, 'peninsula': 1, 'continental': 2, 'landmass': 2, 'share': 1, 'afro-eurasia': 1, 'asia': 5, 'africa': 2, 'bordered': 1, 'arctic': 1, 'ocean': 2, 'north': 2, 'atlantic': 2, 'west': 2, 'mediterranean': 1, 'sea': 4, 'south': 1, 'east': 2, 'commonly': 2, 'considered': 1, 'separated': 1, 'watershed': 1, 'ural': 2, 'mountain': 1, 'river': 1, 'caspian': 1, 'greater': 1, 'caucasus': 1, 'black': 1, 'waterway': 1, 'turkish': 1, 'strait': 1, 'border': 2, 'land': 2, 'great': 2, 'physical': 1, 'size': 1, 'weight': 1, 'history': 2, 'tradition': 1, 'cover': 1, '10.18': 1, 'million': 3, 'km2': 1, '3.93': 1, 'sq': 1, 'mi': 1, 'earth': 1, 'surface': 1, '6.8': 1, 'area': 2, 'making': 1, 'second-smallest': 1, 'seven-continent': 1, 'model': 1, 'politically': 2, 'divided': 2, 'sovereign': 1, 'state': 5, 'russia': 1, 'largest': 1, 'populous': 1, 'spanning': 1, '39': 1, '15': 1, 'population': 3, 'total': 1, '746': 1, '10': 1, 'world': 4, '2018': 1, 'european': 9, 'climate': 2, 'largely': 1, 'affected': 1, 'warm': 1, 'current': 1, 'temper': 1, 'winter': 1, 'summer': 1, 'latitude': 1, 'america': 2, 'severe': 1, 'seasonal': 1, 'difference': 1, 'noticeable': 1, 'close': 1, 'coast': 1, 'culture': 1, 'root': 1, 'western': 5, 'civilisation': 1, 'trace': 1, 'lineage': 1, 'ancient': 3, 'greece': 1, 'rome': 1, 'fall': 3, 'roman': 1, 'empire': 1, '476': 1, 'ad': 1, 'subsequent': 2, 'migration': 1, 'period': 1, 'marked': 1, 'end': 3, 'beginning': 1, 'middle': 1, 'age': 3, 'renaissance': 1, 'humanism': 1, 'exploration': 1, 'art': 1, 'science': 1, 'led': 2, 'modern': 1, 'era': 1, 'discovery': 1, 'started': 1, 'portugal': 1, 'spain': 1, 'played': 1, 'predominant': 1, 'role': 1, 'global': 1, 'affair': 2, '16th': 1, '20th': 1, 'century': 5, 'power': 1, 'colonised': 1, 'time': 1, 'oceania': 1, 'majority': 1, 'enlightenment': 1, 'french': 1, 'revolution': 3, 'napoleonic': 1, 'war': 4, 'shaped': 1, 'culturally': 1, 'economically': 1, '17th': 1, 'half': 1, '19th': 1, 'industrial': 1, 'began': 1, 'britain': 1, '18th': 1, 'gave': 1, 'rise': 1, 'radical': 1, 'economic': 1, 'cultural': 1, 'social': 1, 'change': 1, 'eventually': 1, 'wider': 1, 'took': 2, 'place': 1, 'contributing': 1, 'decline': 1, 'dominance': 1, 'mid-20th': 1, 'soviet': 3, 'union': 6, 'united': 1, 'prominence': 1, 'cold': 1, 'iron': 1, 'curtain': 1, 'nato': 1, 'warsaw': 1, 'pact': 1, '1989': 1, 'berlin': 1, 'wall': 1, 'dissolution': 1, '1949': 1, 'council': 1, 'founded': 1, 'idea': 1, 'unifying': 1, 'achieve': 1, 'common': 1, 'goal': 1, 'prevent': 1, 'future': 1, 'integration': 1, 'formation': 1, 'eu': 3, 'separate': 1, 'political': 2, 'entity': 1, 'lie': 1, 'confederation': 1, 'federation': 2, 'originated': 1, 'expanding': 1, 'eastward': 1, '1991': 1, 'currency': 1, 'country': 1, 'euro': 1, 'schengen': 1, 'abolishes': 1, 'immigration': 1, 'control': 1, 'member': 1, 'non-member': 1, 'exists': 1, 'movement': 1, 'favouring': 1, 'evolution': 1, 'single': 1, 'encompassing': 1}\n"
     ]
    }
   ],
   "source": [
    "print(word_counts)"
   ]
  },
  {
   "cell_type": "code",
   "execution_count": 194,
   "metadata": {},
   "outputs": [],
   "source": [
    "sentence_scores = {}\n",
    "\n",
    "for sentence in nltk.sent_tokenize(text):\n",
    "    sentence_scores[sentence] = 0\n",
    "    for wrd in nltk.word_tokenize(sentence):\n",
    "        if lemmatizer.lemmatize(str(wrd).lower()) in word_counts.keys():\n",
    "            sentence_scores[sentence] += word_counts[lemmatizer.lemmatize(str(wrd).lower())]\n",
    "    \n",
    "    \n"
   ]
  },
  {
   "cell_type": "code",
   "execution_count": 195,
   "metadata": {},
   "outputs": [
    {
     "data": {
      "text/plain": [
       "4"
      ]
     },
     "execution_count": 195,
     "metadata": {},
     "output_type": "execute_result"
    }
   ],
   "source": [
    "summary_length = 0\n",
    "\n",
    "if len(sentence_scores) > 5 :\n",
    "    summary_length = int(len(sentence_scores)*0.20)\n",
    "else:\n",
    "    summary_length = int(len(sentence_scores)*0.50)\n",
    "\n",
    "summary_length"
   ]
  },
  {
   "cell_type": "code",
   "execution_count": 196,
   "metadata": {},
   "outputs": [
    {
     "data": {
      "text/plain": [
       "['Both world wars took place for the most part in Europe, contributing to a decline in Western European dominance in world affairs by the mid-20th century as the Soviet Union and the United States took prominence.',\n",
       " \"The currency of most countries of the European Union, the euro, is the most commonly used among Europeans; and the EU's Schengen Area abolishes border, and immigration controls between most of its member states and some non-member states.\",\n",
       " 'The Industrial Revolution, which began in Great Britain at the end of the 18th century, gave rise to radical economic, cultural and social change in Western Europe and eventually the wider world.',\n",
       " 'During the Cold War, Europe was divided along the Iron Curtain between NATO in the West and the Warsaw Pact in the East, until the revolutions of 1989, fall of the Berlin Wall and the dissolution of the Soviet Union.']"
      ]
     },
     "execution_count": 196,
     "metadata": {},
     "output_type": "execute_result"
    }
   ],
   "source": [
    "# Highest scored sentences\n",
    "nlargest(summary_length, sentence_scores, key = sentence_scores.get)"
   ]
  },
  {
   "cell_type": "code",
   "execution_count": 197,
   "metadata": {},
   "outputs": [],
   "source": [
    "#print sentences based on occurence sequence in original text\n",
    "summary = str()\n",
    "\n",
    "for sentence in nlp(text).sents:\n",
    "    for i in range(0,summary_length):\n",
    "        if str(sentence).find(str(nlargest(summary_length, sentence_scores, key = sentence_scores.get)[i])) == 0:\n",
    "            summary += str(sentence).replace('\\n','')\n",
    "            summary += ' '"
   ]
  },
  {
   "cell_type": "code",
   "execution_count": 198,
   "metadata": {},
   "outputs": [
    {
     "data": {
      "text/plain": [
       "\"The Industrial Revolution, which began in Great Britain at the end of the 18th century, gave rise to radical economic, cultural and social change in Western Europe and eventually the wider world. Both world wars took place for the most part in Europe, contributing to a decline in Western European dominance in world affairs by the mid-20th century as the Soviet Union and the United States took prominence. During the Cold War, Europe was divided along the Iron Curtain between NATO in the West and the Warsaw Pact in the East, until the revolutions of 1989, fall of the Berlin Wall and the dissolution of the Soviet Union. The currency of most countries of the European Union, the euro, is the most commonly used among Europeans; and the EU's Schengen Area abolishes border, and immigration controls between most of its member states and some non-member states. \""
      ]
     },
     "execution_count": 198,
     "metadata": {},
     "output_type": "execute_result"
    }
   ],
   "source": [
    "summary"
   ]
  },
  {
   "cell_type": "markdown",
   "metadata": {},
   "source": [
    "### Extractive by Stemming words "
   ]
  },
  {
   "cell_type": "code",
   "execution_count": 199,
   "metadata": {},
   "outputs": [],
   "source": [
    "from nltk.stem import PorterStemmer\n",
    "from nltk.tokenize import word_tokenize\n",
    "\n",
    "ps = PorterStemmer()"
   ]
  },
  {
   "cell_type": "code",
   "execution_count": 200,
   "metadata": {},
   "outputs": [
    {
     "data": {
      "text/plain": [
       "['europ',\n",
       " 'contin',\n",
       " 'recognis',\n",
       " 'eurasia',\n",
       " 'locat',\n",
       " 'entir',\n",
       " 'northern',\n",
       " 'hemispher',\n",
       " 'eastern',\n",
       " 'hemispher',\n",
       " 'compris',\n",
       " 'westernmost',\n",
       " 'peninsula',\n",
       " 'continent',\n",
       " 'landmass',\n",
       " 'eurasia',\n",
       " 'share',\n",
       " 'continent',\n",
       " 'landmass',\n",
       " 'afro-eurasia']"
      ]
     },
     "execution_count": 200,
     "metadata": {},
     "output_type": "execute_result"
    }
   ],
   "source": [
    "words = [ps.stem(str(token)) for token in nltk.word_tokenize(text)\n",
    "if str(token) not in punctuation and str(token).lower() not in stopwords and len(token) >1]\n",
    "words[0:20]"
   ]
  },
  {
   "cell_type": "code",
   "execution_count": 201,
   "metadata": {},
   "outputs": [],
   "source": [
    "word_counts = {}\n",
    "\n",
    "for token in words:\n",
    "    if token in word_counts.keys():\n",
    "        word_counts[token] += 1\n",
    "    else:\n",
    "        word_counts[token] = 1"
   ]
  },
  {
   "cell_type": "code",
   "execution_count": 202,
   "metadata": {},
   "outputs": [
    {
     "name": "stdout",
     "output_type": "stream",
     "text": [
      "europ 14\n",
      "european 9\n",
      "contin 7\n",
      "union 6\n",
      "asia 5\n"
     ]
    }
   ],
   "source": [
    "from heapq import nlargest\n",
    "for key in nlargest(5, word_counts, key = word_counts.get):\n",
    "      print(key , word_counts[key])"
   ]
  },
  {
   "cell_type": "code",
   "execution_count": 203,
   "metadata": {},
   "outputs": [
    {
     "name": "stdout",
     "output_type": "stream",
     "text": [
      "{'europ': 14, 'contin': 7, 'recognis': 2, 'eurasia': 2, 'locat': 1, 'entir': 1, 'northern': 1, 'hemispher': 2, 'eastern': 1, 'compris': 2, 'westernmost': 1, 'peninsula': 1, 'continent': 2, 'landmass': 2, 'share': 1, 'afro-eurasia': 1, 'asia': 5, 'africa': 2, 'border': 3, 'arctic': 1, 'ocean': 2, 'north': 2, 'atlant': 2, 'west': 2, 'mediterranean': 1, 'sea': 4, 'south': 1, 'east': 2, 'commonli': 2, 'consid': 1, 'separ': 2, 'watersh': 1, 'ural': 2, 'mountain': 1, 'river': 1, 'caspian': 1, 'greater': 1, 'caucasu': 1, 'black': 1, 'waterway': 1, 'turkish': 1, 'strait': 1, 'land': 2, 'great': 2, 'physic': 1, 'size': 1, 'weight': 1, 'histori': 2, 'tradit': 1, 'cover': 1, '10.18': 1, 'million': 3, 'km2': 1, '3.93': 1, 'sq': 1, 'mi': 1, 'earth': 1, 'surfac': 1, '6.8': 1, 'area': 2, 'make': 1, 'second-smallest': 1, 'seven-contin': 1, 'model': 1, 'polit': 4, 'divid': 2, 'sovereign': 1, 'state': 5, 'russia': 1, 'largest': 1, 'popul': 4, 'span': 1, '39': 1, '15': 1, 'total': 1, '746': 1, '10': 1, 'world': 4, '2018': 1, 'european': 9, 'climat': 2, 'larg': 1, 'affect': 1, 'warm': 1, 'current': 1, 'temper': 1, 'winter': 1, 'summer': 1, 'latitud': 1, 'america': 2, 'sever': 1, 'season': 1, 'differ': 1, 'notic': 1, 'close': 1, 'coast': 1, 'cultur': 3, 'root': 1, 'western': 5, 'civilis': 1, 'trace': 1, 'lineag': 1, 'ancient': 3, 'greec': 1, 'rome': 1, 'fall': 3, 'roman': 1, 'empir': 1, '476': 1, 'AD': 1, 'subsequ': 2, 'migrat': 1, 'period': 1, 'mark': 1, 'end': 3, 'begin': 1, 'middl': 1, 'age': 3, 'renaiss': 1, 'human': 1, 'explor': 1, 'art': 1, 'scienc': 1, 'led': 2, 'modern': 1, 'era': 1, 'discoveri': 1, 'start': 1, 'portug': 1, 'spain': 1, 'play': 1, 'predomin': 1, 'role': 1, 'global': 1, 'affair': 2, '16th': 1, '20th': 1, 'centuri': 5, 'power': 1, 'colonis': 1, 'time': 1, 'oceania': 1, 'major': 1, 'enlighten': 1, 'french': 1, 'revolut': 3, 'napoleon': 1, 'war': 4, 'shape': 1, 'econom': 2, '17th': 1, 'half': 1, '19th': 1, 'industri': 1, 'began': 1, 'britain': 1, '18th': 1, 'gave': 1, 'rise': 1, 'radic': 1, 'social': 1, 'chang': 1, 'eventu': 1, 'wider': 1, 'took': 2, 'place': 1, 'contribut': 1, 'declin': 1, 'domin': 1, 'mid-20th': 1, 'soviet': 3, 'union': 6, 'unit': 1, 'promin': 1, 'cold': 1, 'iron': 1, 'curtain': 1, 'nato': 1, 'warsaw': 1, 'pact': 1, '1989': 1, 'berlin': 1, 'wall': 1, 'dissolut': 1, '1949': 1, 'council': 1, 'found': 1, 'idea': 1, 'unifi': 1, 'achiev': 1, 'common': 1, 'goal': 1, 'prevent': 1, 'futur': 1, 'integr': 1, 'format': 1, 'EU': 3, 'entiti': 1, 'lie': 1, 'confeder': 1, 'feder': 2, 'origin': 1, 'expand': 1, 'eastward': 1, '1991': 1, 'currenc': 1, 'countri': 1, 'euro': 1, 'schengen': 1, 'abolish': 1, 'immigr': 1, 'control': 1, 'member': 1, 'non-memb': 1, 'exist': 1, 'movement': 1, 'favour': 1, 'evolut': 1, 'singl': 1, 'encompass': 1}\n"
     ]
    }
   ],
   "source": [
    "print(word_counts)"
   ]
  },
  {
   "cell_type": "code",
   "execution_count": 204,
   "metadata": {},
   "outputs": [],
   "source": [
    "sentence_scores = {}\n",
    "\n",
    "for sentence in nltk.sent_tokenize(text):\n",
    "    sentence_scores[sentence] = 0\n",
    "    for wrd in nltk.word_tokenize(sentence):\n",
    "        if lemmatizer.lemmatize(str(wrd).lower()) in word_counts.keys():\n",
    "            sentence_scores[sentence] += word_counts[lemmatizer.lemmatize(str(wrd).lower())]\n",
    "    \n",
    "    \n"
   ]
  },
  {
   "cell_type": "code",
   "execution_count": 205,
   "metadata": {},
   "outputs": [
    {
     "data": {
      "text/plain": [
       "{'Europe is a continent which is also recognised as part of Eurasia, located entirely in the Northern Hemisphere and mostly in the Eastern Hemisphere.': 6,\n",
       " 'Comprising the westernmost peninsulas of the continental landmass of Eurasia, it shares the continental landmass of Afro-Eurasia with both Asia and Africa.': 17,\n",
       " 'It is bordered by the Arctic Ocean to the north, the Atlantic Ocean to the west, the Mediterranean Sea to the south and Asia to the east.': 22,\n",
       " 'Europe is commonly considered to be separated from Asia by the watershed of the Ural Mountains, the Ural River, the Caspian Sea, the Greater Caucasus, the Black Sea and the waterways of the Turkish Straits.': 25,\n",
       " 'Although much of this border is over land, Europe is almost always recognised as its own continent because of its great physical size and the weight of its history and traditions.': 11,\n",
       " \"Europe covers about 10.18 million km2 (3.93 million sq mi), or 2% of the Earth's surface (6.8% of land area), making it the second-smallest continent (using the seven-continent model).\": 22,\n",
       " 'Politically, Europe is divided into about fifty sovereign states, of which Russia is the largest and most populous, spanning 39% of the continent and comprising 15% of its population.': 12,\n",
       " 'Europe had a total population of about 746 million (about 10% of the world population) in 2018.': 11,\n",
       " 'The European climate is largely affected by warm Atlantic currents that temper winters and summers on much of the continent, even at latitudes along which the climate in Asia and North America is severe.': 25,\n",
       " 'Further from the sea, seasonal differences are more noticeable than close to the coast.': 6,\n",
       " 'European culture is the root of Western civilisation, which traces its lineage back to ancient Greece and ancient Rome.': 23,\n",
       " \"The fall of the Western Roman Empire in 476 AD and the subsequent Migration Period marked the end of Europe's ancient history, and the beginning of the Middle Ages.\": 20,\n",
       " 'Renaissance humanism, exploration, art and science led to the modern era.': 5,\n",
       " 'Since the Age of Discovery, started by Portugal and Spain, Europe played a predominant role in global affairs.': 8,\n",
       " 'Between the 16th and 20th centuries, European powers colonised at various times the Americas, almost all of Africa and Oceania, and the majority of Asia.': 23,\n",
       " 'The Age of Enlightenment, the subsequent French Revolution and the Napoleonic Wars shaped the continent culturally, politically and economically from the end of the 17th century until the first half of the 19th century.': 16,\n",
       " 'The Industrial Revolution, which began in Great Britain at the end of the 18th century, gave rise to radical economic, cultural and social change in Western Europe and eventually the wider world.': 21,\n",
       " 'Both world wars took place for the most part in Europe, contributing to a decline in Western European dominance in world affairs by the mid-20th century as the Soviet Union and the United States took prominence.': 48,\n",
       " 'During the Cold War, Europe was divided along the Iron Curtain between NATO in the West and the Warsaw Pact in the East, until the revolutions of 1989, fall of the Berlin Wall and the dissolution of the Soviet Union.': 29,\n",
       " 'In 1949, the Council of Europe was founded with the idea of unifying Europe to achieve common goals and prevent future wars.': 10,\n",
       " 'Further European integration by some states led to the formation of the European Union (EU), a separate political entity that lies between a confederation and a federation.': 32,\n",
       " 'The EU originated in Western Europe but has been expanding eastward since the fall of the Soviet Union in 1991.': 19,\n",
       " \"The currency of most countries of the European Union, the euro, is the most commonly used among Europeans; and the EU's Schengen Area abolishes border, and immigration controls between most of its member states and some non-member states.\": 43,\n",
       " 'There exists a political movement favouring the evolution of the European Union into a single federation encompassing much of the continent.': 18}"
      ]
     },
     "execution_count": 205,
     "metadata": {},
     "output_type": "execute_result"
    }
   ],
   "source": [
    "sentence_scores"
   ]
  },
  {
   "cell_type": "code",
   "execution_count": 206,
   "metadata": {},
   "outputs": [
    {
     "data": {
      "text/plain": [
       "4"
      ]
     },
     "execution_count": 206,
     "metadata": {},
     "output_type": "execute_result"
    }
   ],
   "source": [
    "summary_length = 0\n",
    "\n",
    "if len(sentence_scores) > 5 :\n",
    "    summary_length = int(len(sentence_scores)*0.20)\n",
    "else:\n",
    "    summary_length = int(len(sentence_scores)*0.30)\n",
    "\n",
    "summary_length"
   ]
  },
  {
   "cell_type": "code",
   "execution_count": 207,
   "metadata": {},
   "outputs": [
    {
     "data": {
      "text/plain": [
       "['Both world wars took place for the most part in Europe, contributing to a decline in Western European dominance in world affairs by the mid-20th century as the Soviet Union and the United States took prominence.',\n",
       " \"The currency of most countries of the European Union, the euro, is the most commonly used among Europeans; and the EU's Schengen Area abolishes border, and immigration controls between most of its member states and some non-member states.\",\n",
       " 'Further European integration by some states led to the formation of the European Union (EU), a separate political entity that lies between a confederation and a federation.',\n",
       " 'During the Cold War, Europe was divided along the Iron Curtain between NATO in the West and the Warsaw Pact in the East, until the revolutions of 1989, fall of the Berlin Wall and the dissolution of the Soviet Union.']"
      ]
     },
     "execution_count": 207,
     "metadata": {},
     "output_type": "execute_result"
    }
   ],
   "source": [
    "# Highest scored sentences\n",
    "nlargest(summary_length, sentence_scores, key = sentence_scores.get)"
   ]
  },
  {
   "cell_type": "code",
   "execution_count": 208,
   "metadata": {},
   "outputs": [],
   "source": [
    "#print sentences based on occurence sequence in original text\n",
    "summary2 = str()\n",
    "\n",
    "for sentence in nlp(text).sents:\n",
    "    for i in range(0,summary_length):\n",
    "        if str(sentence).find(str(nlargest(summary_length, sentence_scores, key = sentence_scores.get)[i])) == 0:\n",
    "            summary2 += str(sentence).replace('\\n','')\n",
    "            summary2 += ' '"
   ]
  },
  {
   "cell_type": "code",
   "execution_count": 209,
   "metadata": {},
   "outputs": [
    {
     "data": {
      "text/plain": [
       "\"Both world wars took place for the most part in Europe, contributing to a decline in Western European dominance in world affairs by the mid-20th century as the Soviet Union and the United States took prominence. During the Cold War, Europe was divided along the Iron Curtain between NATO in the West and the Warsaw Pact in the East, until the revolutions of 1989, fall of the Berlin Wall and the dissolution of the Soviet Union. Further European integration by some states led to the formation of the European Union (EU), a separate political entity that lies between a confederation and a federation. The currency of most countries of the European Union, the euro, is the most commonly used among Europeans; and the EU's Schengen Area abolishes border, and immigration controls between most of its member states and some non-member states. \""
      ]
     },
     "execution_count": 209,
     "metadata": {},
     "output_type": "execute_result"
    }
   ],
   "source": [
    "summary2"
   ]
  },
  {
   "cell_type": "markdown",
   "metadata": {},
   "source": [
    "### Extractive by using TFIDF approach"
   ]
  },
  {
   "cell_type": "code",
   "execution_count": 210,
   "metadata": {},
   "outputs": [],
   "source": [
    "from sklearn.feature_extraction.text import TfidfVectorizer\n",
    "import numpy as np"
   ]
  },
  {
   "cell_type": "code",
   "execution_count": 211,
   "metadata": {},
   "outputs": [],
   "source": [
    "tfidf_vectorizer = TfidfVectorizer(ngram_range=(1,3))"
   ]
  },
  {
   "cell_type": "code",
   "execution_count": 212,
   "metadata": {},
   "outputs": [
    {
     "data": {
      "text/plain": [
       "Europe is a continent which is also recognised as part of Eurasia, located entirely in the Northern Hemisphere and mostly in the Eastern Hemisphere. Comprising the westernmost peninsulas of the continental landmass of Eurasia, it shares the continental landmass of Afro-Eurasia with both Asia and Africa. It is bordered by the Arctic Ocean to the north, the Atlantic Ocean to the west, the Mediterranean Sea to the south and Asia to the east. Europe is commonly considered to be separated from Asia by the watershed of the Ural Mountains, the Ural River, the Caspian Sea, the Greater Caucasus, the Black Sea and the waterways of the Turkish Straits.  Although much of this border is over land, Europe is almost always recognised as its own continent because of its great physical size and the weight of its history and traditions.\n",
       "Europe covers about 10.18 million km2 (3.93 million sq mi), or 2% of the Earth's surface (6.8% of land area), making it the second-smallest continent (using the seven-continent model). Politically, Europe is divided into about fifty sovereign states, of which Russia is the largest and most populous, spanning 39% of the continent and comprising 15% of its population. Europe had a total population of about 746 million (about 10% of the world population) in 2018. The European climate is largely affected by warm Atlantic currents that temper winters and summers on much of the continent, even at latitudes along which the climate in Asia and North America is severe. Further from the sea, seasonal differences are more noticeable than close to the coast.\n",
       "European culture is the root of Western civilisation, which traces its lineage back to ancient Greece and ancient Rome. The fall of the Western Roman Empire in 476 AD and the subsequent Migration Period marked the end of Europe's ancient history, and the beginning of the Middle Ages. Renaissance humanism, exploration, art and science led to the modern era. Since the Age of Discovery, started by Portugal and Spain, Europe played a predominant role in global affairs. Between the 16th and 20th centuries, European powers colonised at various times the Americas, almost all of Africa and Oceania, and the majority of Asia.\n",
       "The Age of Enlightenment, the subsequent French Revolution and the Napoleonic Wars shaped the continent culturally, politically and economically from the end of the 17th century until the first half of the 19th century. The Industrial Revolution, which began in Great Britain at the end of the 18th century, gave rise to radical economic, cultural and social change in Western Europe and eventually the wider world. Both world wars took place for the most part in Europe, contributing to a decline in Western European dominance in world affairs by the mid-20th century as the Soviet Union and the United States took prominence. During the Cold War, Europe was divided along the Iron Curtain between NATO in the West and the Warsaw Pact in the East, until the revolutions of 1989, fall of the Berlin Wall and the dissolution of the Soviet Union.\n",
       "In 1949, the Council of Europe was founded with the idea of unifying Europe to achieve common goals and prevent future wars. Further European integration by some states led to the formation of the European Union (EU), a separate political entity that lies between a confederation and a federation. The EU originated in Western Europe but has been expanding eastward since the fall of the Soviet Union in 1991. The currency of most countries of the European Union, the euro, is the most commonly used among Europeans; and the EU's Schengen Area abolishes border, and immigration controls between most of its member states and some non-member states. There exists a political movement favouring the evolution of the European Union into a single federation encompassing much of the continent."
      ]
     },
     "execution_count": 212,
     "metadata": {},
     "output_type": "execute_result"
    }
   ],
   "source": [
    "nlp(text)"
   ]
  },
  {
   "cell_type": "code",
   "execution_count": 213,
   "metadata": {},
   "outputs": [],
   "source": [
    "all_sentences = [str(sent) for sent in nlp(text).sents]\n",
    "sentence_vectors = tfidf_vectorizer.fit_transform(all_sentences)"
   ]
  },
  {
   "cell_type": "code",
   "execution_count": 214,
   "metadata": {},
   "outputs": [
    {
     "data": {
      "text/plain": [
       "array([7.59116896, 6.92956842, 7.43617596, 9.19211874, 8.92198975,\n",
       "       8.97030789, 8.79996696, 6.28356303, 9.5336108 , 6.12164606,\n",
       "       7.08452112, 8.5086522 , 5.36628924, 6.77961182, 8.14425439,\n",
       "       9.17157258, 9.28229104, 9.70393092, 9.89932514, 7.66762627,\n",
       "       8.05008239, 7.2451577 , 9.76703063, 7.0133997 ])"
      ]
     },
     "execution_count": 214,
     "metadata": {},
     "output_type": "execute_result"
    }
   ],
   "source": [
    "sentence_scores_vector = np.hstack(np.array(sentence_vectors.sum(axis=1)))\n",
    "sentence_scores_vector"
   ]
  },
  {
   "cell_type": "code",
   "execution_count": 215,
   "metadata": {},
   "outputs": [
    {
     "data": {
      "text/plain": [
       "{'Europe is a continent which is also recognised as part of Eurasia, located entirely in the Northern Hemisphere and mostly in the Eastern Hemisphere.': 7.591168959448716,\n",
       " 'Comprising the westernmost peninsulas of the continental landmass of Eurasia, it shares the continental landmass of Afro-Eurasia with both Asia and Africa.': 6.929568416040533,\n",
       " 'It is bordered by the Arctic Ocean to the north, the Atlantic Ocean to the west, the Mediterranean Sea to the south and Asia to the east.': 7.436175955524496,\n",
       " 'Europe is commonly considered to be separated from Asia by the watershed of the Ural Mountains, the Ural River, the Caspian Sea, the Greater Caucasus, the Black Sea and the waterways of the Turkish Straits.  ': 9.19211873951933,\n",
       " 'Although much of this border is over land, Europe is almost always recognised as its own continent because of its great physical size and the weight of its history and traditions.\\n': 8.921989748446943,\n",
       " \"Europe covers about 10.18 million km2 (3.93 million sq mi), or 2% of the Earth's surface (6.8% of land area), making it the second-smallest continent (using the seven-continent model).\": 8.970307893954315,\n",
       " 'Politically, Europe is divided into about fifty sovereign states, of which Russia is the largest and most populous, spanning 39% of the continent and comprising 15% of its population.': 8.799966963688286,\n",
       " 'Europe had a total population of about 746 million (about 10% of the world population) in 2018.': 6.2835630268627325,\n",
       " 'The European climate is largely affected by warm Atlantic currents that temper winters and summers on much of the continent, even at latitudes along which the climate in Asia and North America is severe.': 9.533610802167834,\n",
       " 'Further from the sea, seasonal differences are more noticeable than close to the coast.\\n': 6.1216460640541985,\n",
       " 'European culture is the root of Western civilisation, which traces its lineage back to ancient Greece and ancient Rome.': 7.084521124263087,\n",
       " \"The fall of the Western Roman Empire in 476 AD and the subsequent Migration Period marked the end of Europe's ancient history, and the beginning of the Middle Ages.\": 8.508652198806653,\n",
       " 'Renaissance humanism, exploration, art and science led to the modern era.': 5.3662892357028715,\n",
       " 'Since the Age of Discovery, started by Portugal and Spain, Europe played a predominant role in global affairs.': 6.779611819362217,\n",
       " 'Between the 16th and 20th centuries, European powers colonised at various times the Americas, almost all of Africa and Oceania, and the majority of Asia.\\n': 8.1442543886484,\n",
       " 'The Age of Enlightenment, the subsequent French Revolution and the Napoleonic Wars shaped the continent culturally, politically and economically from the end of the 17th century until the first half of the 19th century.': 9.171572580236926,\n",
       " 'The Industrial Revolution, which began in Great Britain at the end of the 18th century, gave rise to radical economic, cultural and social change in Western Europe and eventually the wider world.': 9.282291036000611,\n",
       " 'Both world wars took place for the most part in Europe, contributing to a decline in Western European dominance in world affairs by the mid-20th century as the Soviet Union and the United States took prominence.': 9.703930920345908,\n",
       " 'During the Cold War, Europe was divided along the Iron Curtain between NATO in the West and the Warsaw Pact in the East, until the revolutions of 1989, fall of the Berlin Wall and the dissolution of the Soviet Union.\\n': 9.89932514492259,\n",
       " 'In 1949, the Council of Europe was founded with the idea of unifying Europe to achieve common goals and prevent future wars.': 7.667626265168327,\n",
       " 'Further European integration by some states led to the formation of the European Union (EU), a separate political entity that lies between a confederation and a federation.': 8.05008239462905,\n",
       " 'The EU originated in Western Europe but has been expanding eastward since the fall of the Soviet Union in 1991.': 7.24515769955874,\n",
       " \"The currency of most countries of the European Union, the euro, is the most commonly used among Europeans; and the EU's Schengen Area abolishes border, and immigration controls between most of its member states and some non-member states.\": 9.767030630978953,\n",
       " 'There exists a political movement favouring the evolution of the European Union into a single federation encompassing much of the continent.': 7.013399704731307}"
      ]
     },
     "execution_count": 215,
     "metadata": {},
     "output_type": "execute_result"
    }
   ],
   "source": [
    "sentence_scores = dict(zip(all_sentences, sentence_scores_vector))\n",
    "sentence_scores"
   ]
  },
  {
   "cell_type": "code",
   "execution_count": 216,
   "metadata": {},
   "outputs": [
    {
     "data": {
      "text/plain": [
       "4"
      ]
     },
     "execution_count": 216,
     "metadata": {},
     "output_type": "execute_result"
    }
   ],
   "source": [
    "summary_length = int(len(sentence_scores)*0.20)\n",
    "summary_length"
   ]
  },
  {
   "cell_type": "code",
   "execution_count": 217,
   "metadata": {},
   "outputs": [
    {
     "data": {
      "text/plain": [
       "['During the Cold War, Europe was divided along the Iron Curtain between NATO in the West and the Warsaw Pact in the East, until the revolutions of 1989, fall of the Berlin Wall and the dissolution of the Soviet Union.\\n',\n",
       " \"The currency of most countries of the European Union, the euro, is the most commonly used among Europeans; and the EU's Schengen Area abolishes border, and immigration controls between most of its member states and some non-member states.\",\n",
       " 'Both world wars took place for the most part in Europe, contributing to a decline in Western European dominance in world affairs by the mid-20th century as the Soviet Union and the United States took prominence.',\n",
       " 'The European climate is largely affected by warm Atlantic currents that temper winters and summers on much of the continent, even at latitudes along which the climate in Asia and North America is severe.']"
      ]
     },
     "execution_count": 217,
     "metadata": {},
     "output_type": "execute_result"
    }
   ],
   "source": [
    "# Highest scored sentences\n",
    "nlargest(summary_length, sentence_scores, key = sentence_scores.get)"
   ]
  },
  {
   "cell_type": "code",
   "execution_count": 218,
   "metadata": {},
   "outputs": [],
   "source": [
    "#print sentences based on occurence sequence in original text\n",
    "summary3 = str()\n",
    "\n",
    "for sentence in nlp(text).sents:\n",
    "    for i in range(0,summary_length):\n",
    "        if str(sentence).find(str(nlargest(summary_length, sentence_scores, key = sentence_scores.get)[i])) == 0:\n",
    "            summary3 += str(sentence).replace('\\n','')\n",
    "            summary3 += ' '"
   ]
  },
  {
   "cell_type": "code",
   "execution_count": 219,
   "metadata": {},
   "outputs": [
    {
     "data": {
      "text/plain": [
       "\"The European climate is largely affected by warm Atlantic currents that temper winters and summers on much of the continent, even at latitudes along which the climate in Asia and North America is severe. Both world wars took place for the most part in Europe, contributing to a decline in Western European dominance in world affairs by the mid-20th century as the Soviet Union and the United States took prominence. During the Cold War, Europe was divided along the Iron Curtain between NATO in the West and the Warsaw Pact in the East, until the revolutions of 1989, fall of the Berlin Wall and the dissolution of the Soviet Union. The currency of most countries of the European Union, the euro, is the most commonly used among Europeans; and the EU's Schengen Area abolishes border, and immigration controls between most of its member states and some non-member states. \""
      ]
     },
     "execution_count": 219,
     "metadata": {},
     "output_type": "execute_result"
    }
   ],
   "source": [
    "summary3"
   ]
  },
  {
   "cell_type": "markdown",
   "metadata": {},
   "source": [
    "# Compare Summaries"
   ]
  },
  {
   "cell_type": "code",
   "execution_count": 223,
   "metadata": {},
   "outputs": [
    {
     "data": {
      "text/plain": [
       "\"Europe is a continent which is also recognised as part of Eurasia, located entirely in the Northern Hemisphere and mostly in the Eastern Hemisphere. Comprising the westernmost peninsulas of the continental landmass of Eurasia, it shares the continental landmass of Afro-Eurasia with both Asia and Africa. It is bordered by the Arctic Ocean to the north, the Atlantic Ocean to the west, the Mediterranean Sea to the south and Asia to the east. Europe is commonly considered to be separated from Asia by the watershed of the Ural Mountains, the Ural River, the Caspian Sea, the Greater Caucasus, the Black Sea and the waterways of the Turkish Straits.  Although much of this border is over land, Europe is almost always recognised as its own continent because of its great physical size and the weight of its history and traditions.\\nEurope covers about 10.18 million km2 (3.93 million sq mi), or 2% of the Earth's surface (6.8% of land area), making it the second-smallest continent (using the seven-continent model). Politically, Europe is divided into about fifty sovereign states, of which Russia is the largest and most populous, spanning 39% of the continent and comprising 15% of its population. Europe had a total population of about 746 million (about 10% of the world population) in 2018. The European climate is largely affected by warm Atlantic currents that temper winters and summers on much of the continent, even at latitudes along which the climate in Asia and North America is severe. Further from the sea, seasonal differences are more noticeable than close to the coast.\\nEuropean culture is the root of Western civilisation, which traces its lineage back to ancient Greece and ancient Rome. The fall of the Western Roman Empire in 476 AD and the subsequent Migration Period marked the end of Europe's ancient history, and the beginning of the Middle Ages. Renaissance humanism, exploration, art and science led to the modern era. Since the Age of Discovery, started by Portugal and Spain, Europe played a predominant role in global affairs. Between the 16th and 20th centuries, European powers colonised at various times the Americas, almost all of Africa and Oceania, and the majority of Asia.\\nThe Age of Enlightenment, the subsequent French Revolution and the Napoleonic Wars shaped the continent culturally, politically and economically from the end of the 17th century until the first half of the 19th century. The Industrial Revolution, which began in Great Britain at the end of the 18th century, gave rise to radical economic, cultural and social change in Western Europe and eventually the wider world. Both world wars took place for the most part in Europe, contributing to a decline in Western European dominance in world affairs by the mid-20th century as the Soviet Union and the United States took prominence. During the Cold War, Europe was divided along the Iron Curtain between NATO in the West and the Warsaw Pact in the East, until the revolutions of 1989, fall of the Berlin Wall and the dissolution of the Soviet Union.\\nIn 1949, the Council of Europe was founded with the idea of unifying Europe to achieve common goals and prevent future wars. Further European integration by some states led to the formation of the European Union (EU), a separate political entity that lies between a confederation and a federation. The EU originated in Western Europe but has been expanding eastward since the fall of the Soviet Union in 1991. The currency of most countries of the European Union, the euro, is the most commonly used among Europeans; and the EU's Schengen Area abolishes border, and immigration controls between most of its member states and some non-member states. There exists a political movement favouring the evolution of the European Union into a single federation encompassing much of the continent.\""
      ]
     },
     "execution_count": 223,
     "metadata": {},
     "output_type": "execute_result"
    }
   ],
   "source": [
    "# Original Text\n",
    "text"
   ]
  },
  {
   "cell_type": "code",
   "execution_count": 220,
   "metadata": {},
   "outputs": [
    {
     "data": {
      "text/plain": [
       "\"The Industrial Revolution, which began in Great Britain at the end of the 18th century, gave rise to radical economic, cultural and social change in Western Europe and eventually the wider world. Both world wars took place for the most part in Europe, contributing to a decline in Western European dominance in world affairs by the mid-20th century as the Soviet Union and the United States took prominence. During the Cold War, Europe was divided along the Iron Curtain between NATO in the West and the Warsaw Pact in the East, until the revolutions of 1989, fall of the Berlin Wall and the dissolution of the Soviet Union. The currency of most countries of the European Union, the euro, is the most commonly used among Europeans; and the EU's Schengen Area abolishes border, and immigration controls between most of its member states and some non-member states. \""
      ]
     },
     "execution_count": 220,
     "metadata": {},
     "output_type": "execute_result"
    }
   ],
   "source": [
    "# summarize by lemmitizing words\n",
    "summary"
   ]
  },
  {
   "cell_type": "code",
   "execution_count": 221,
   "metadata": {},
   "outputs": [
    {
     "data": {
      "text/plain": [
       "\"Both world wars took place for the most part in Europe, contributing to a decline in Western European dominance in world affairs by the mid-20th century as the Soviet Union and the United States took prominence. During the Cold War, Europe was divided along the Iron Curtain between NATO in the West and the Warsaw Pact in the East, until the revolutions of 1989, fall of the Berlin Wall and the dissolution of the Soviet Union. Further European integration by some states led to the formation of the European Union (EU), a separate political entity that lies between a confederation and a federation. The currency of most countries of the European Union, the euro, is the most commonly used among Europeans; and the EU's Schengen Area abolishes border, and immigration controls between most of its member states and some non-member states. \""
      ]
     },
     "execution_count": 221,
     "metadata": {},
     "output_type": "execute_result"
    }
   ],
   "source": [
    "# summarize by skimming words\n",
    "summary2"
   ]
  },
  {
   "cell_type": "code",
   "execution_count": 222,
   "metadata": {},
   "outputs": [
    {
     "data": {
      "text/plain": [
       "\"The European climate is largely affected by warm Atlantic currents that temper winters and summers on much of the continent, even at latitudes along which the climate in Asia and North America is severe. Both world wars took place for the most part in Europe, contributing to a decline in Western European dominance in world affairs by the mid-20th century as the Soviet Union and the United States took prominence. During the Cold War, Europe was divided along the Iron Curtain between NATO in the West and the Warsaw Pact in the East, until the revolutions of 1989, fall of the Berlin Wall and the dissolution of the Soviet Union. The currency of most countries of the European Union, the euro, is the most commonly used among Europeans; and the EU's Schengen Area abolishes border, and immigration controls between most of its member states and some non-member states. \""
      ]
     },
     "execution_count": 222,
     "metadata": {},
     "output_type": "execute_result"
    }
   ],
   "source": [
    "# summarize by calculating TF-IDF scores\n",
    "summary3"
   ]
  },
  {
   "cell_type": "markdown",
   "metadata": {},
   "source": [
    "## Abstractive Summarization"
   ]
  },
  {
   "cell_type": "code",
   "execution_count": 312,
   "metadata": {},
   "outputs": [],
   "source": [
    "from transformers import PegasusForConditionalGeneration, PegasusTokenizer"
   ]
  },
  {
   "cell_type": "code",
   "execution_count": null,
   "metadata": {},
   "outputs": [],
   "source": [
    "from transformers import pipeline\n",
    "\n",
    "summarizer = pipeline(\"summarization\", model=\"facebook/bart-large-cnn\")"
   ]
  },
  {
   "cell_type": "code",
   "execution_count": null,
   "metadata": {},
   "outputs": [],
   "source": [
    "print(summarizer(text, max_length=130, min_length=30, do_sample=False))"
   ]
  },
  {
   "cell_type": "code",
   "execution_count": null,
   "metadata": {},
   "outputs": [],
   "source": [
    "tokenizer = PegasusTokenizer.from_pretrained('google/pegasus-xsum')"
   ]
  },
  {
   "cell_type": "code",
   "execution_count": null,
   "metadata": {},
   "outputs": [],
   "source": [
    "model = PegasusForConditionalGeneration.from_pretrained(\"google/pegasus-xsum\")"
   ]
  },
  {
   "cell_type": "code",
   "execution_count": null,
   "metadata": {},
   "outputs": [],
   "source": [
    "tokens = tokenizer(text, truncation=True, padding=\"longest\", return_tensors=\"pt\")"
   ]
  },
  {
   "cell_type": "code",
   "execution_count": 7,
   "metadata": {},
   "outputs": [
    {
     "data": {
      "text/plain": [
       "{'input_ids': tensor([[11888,   127,   109, 32570,   111,  3238,   113,  1144,   108,   109,\n",
       "           453,   205, 34982,  2270,   115,   109,   278,   108,  4510, 17244,\n",
       "         26588,   113,   109,   278,   131,   116,  1948,   107,   222,  1144,\n",
       "           108,   109,  1286,   198, 22110,   194,  6335,   112, 25656,   108,\n",
       "           880,   197,   114,   970, 24139,   132,  1261,   206,   109,  2128,\n",
       "         25656,  3471,   113,  6762,   113,  2881, 40009,   121, 58767,  1211,\n",
       "           108, 10677,   109,  1889,   111,  1482,   689,   113,   109,  1322,\n",
       "           107,  5223,   112, 74067,   108,   109,  2128, 37910,   117,   799,\n",
       "           720,   109,   278,   108, 11076,   115,   176,   972,   113,  2661,\n",
       "           108,   892,  1086,   108,  1465,   108,   109,  6859,   108, 42965,\n",
       "           108,   111,  1922,   107,   139, 24173, 24985,  2128,  4943,   112,\n",
       "         32570,   113,   109,   799,   121,  1655,  4498,   113,  1144,   108,\n",
       "           155,   163,   112,   200, 16786,   833,   113,  1144,   108,   170,\n",
       "           127,   568, 29046, 11888,   206,   269,   109, 14427,   113,  1144,\n",
       "           115, 18880,   108,   109, 24173, 24985,  2140,   112,   149, 32570,\n",
       "         16786,   115,   109, 16605,   113,  1816,  1144,   143,  4025,   180,\n",
       "           117,   239,  4856,   111, 10631,   250,   315,  1493,   108,   109,\n",
       "          6859,   108,   111,   109,   706,  1013,   108,   109,  1130,  4049,\n",
       "          2128,   111,  1445,  2128,   127,  1254,   263,   112,  1405,  7515,\n",
       "           122,  1485,  5898,   115,  1493,   108,   109, 10543,   200,   113,\n",
       "           109,  6859,   108,   111,  7887,  3361,   115,   109,   475,   107,\n",
       "           283,   107,   108,   162,   127,   163,  3732,   606,   130,   198,\n",
       "         22110,  2302,     1]]), 'attention_mask': tensor([[1, 1, 1, 1, 1, 1, 1, 1, 1, 1, 1, 1, 1, 1, 1, 1, 1, 1, 1, 1, 1, 1, 1, 1,\n",
       "         1, 1, 1, 1, 1, 1, 1, 1, 1, 1, 1, 1, 1, 1, 1, 1, 1, 1, 1, 1, 1, 1, 1, 1,\n",
       "         1, 1, 1, 1, 1, 1, 1, 1, 1, 1, 1, 1, 1, 1, 1, 1, 1, 1, 1, 1, 1, 1, 1, 1,\n",
       "         1, 1, 1, 1, 1, 1, 1, 1, 1, 1, 1, 1, 1, 1, 1, 1, 1, 1, 1, 1, 1, 1, 1, 1,\n",
       "         1, 1, 1, 1, 1, 1, 1, 1, 1, 1, 1, 1, 1, 1, 1, 1, 1, 1, 1, 1, 1, 1, 1, 1,\n",
       "         1, 1, 1, 1, 1, 1, 1, 1, 1, 1, 1, 1, 1, 1, 1, 1, 1, 1, 1, 1, 1, 1, 1, 1,\n",
       "         1, 1, 1, 1, 1, 1, 1, 1, 1, 1, 1, 1, 1, 1, 1, 1, 1, 1, 1, 1, 1, 1, 1, 1,\n",
       "         1, 1, 1, 1, 1, 1, 1, 1, 1, 1, 1, 1, 1, 1, 1, 1, 1, 1, 1, 1, 1, 1, 1, 1,\n",
       "         1, 1, 1, 1, 1, 1, 1, 1, 1, 1, 1, 1, 1, 1, 1, 1, 1, 1, 1, 1, 1, 1, 1, 1,\n",
       "         1, 1, 1, 1, 1, 1, 1]])}"
      ]
     },
     "execution_count": 7,
     "metadata": {},
     "output_type": "execute_result"
    }
   ],
   "source": [
    "tokens\n"
   ]
  },
  {
   "cell_type": "code",
   "execution_count": 8,
   "metadata": {},
   "outputs": [],
   "source": [
    "summary = model.generate(**tokens)"
   ]
  },
  {
   "cell_type": "code",
   "execution_count": 9,
   "metadata": {},
   "outputs": [
    {
     "data": {
      "text/plain": [
       "'The term \"Indian\" is often used to refer to people living outside of India, who are called Overseas Indians.'"
      ]
     },
     "execution_count": 9,
     "metadata": {},
     "output_type": "execute_result"
    }
   ],
   "source": [
    "tokenizer.decode(summary[0])"
   ]
  },
  {
   "cell_type": "code",
   "execution_count": null,
   "metadata": {},
   "outputs": [],
   "source": []
  }
 ],
 "metadata": {
  "kernelspec": {
   "display_name": "Python 3",
   "language": "python",
   "name": "python3"
  },
  "language_info": {
   "codemirror_mode": {
    "name": "ipython",
    "version": 3
   },
   "file_extension": ".py",
   "mimetype": "text/x-python",
   "name": "python",
   "nbconvert_exporter": "python",
   "pygments_lexer": "ipython3",
   "version": "3.8.10"
  }
 },
 "nbformat": 4,
 "nbformat_minor": 4
}
